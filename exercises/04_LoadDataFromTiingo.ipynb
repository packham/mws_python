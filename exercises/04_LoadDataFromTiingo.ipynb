{
 "cells": [
  {
   "cell_type": "markdown",
   "metadata": {},
   "source": [
    "<b> \n",
    "    <font size=\"7\">\n",
    "        Methodenwerkstatt Statistik <br><br>\n",
    "        Introduction to Python\n",
    "    </font>\n",
    "</b>\n",
    "<br><br>\n",
    "<img src=\"../pics/HWR.png\" width=400px>\n",
    "<br><br>\n",
    "<b>\n",
    "    <font size=\"5\"> \n",
    "        Prof. Dr. Natalie Packham <br>\n",
    "        Berlin School of Economics and Law <br>\n",
    "        Summer Term 2023\n",
    "    </font>\n",
    "</b>"
   ]
  },
  {
   "cell_type": "markdown",
   "metadata": {},
   "source": [
    "# Exercises on loading financial data from the Internet"
   ]
  },
  {
   "cell_type": "markdown",
   "metadata": {},
   "source": [
    "These exercises require that you sign up on Tiingo, https://api.tiingo.com, and obtain an __API Key__, sometimes also called __Token__.\n",
    "Once logged in, your API token is available at https://api.tiingo.com/account/api/token.\n"
   ]
  },
  {
   "cell_type": "markdown",
   "metadata": {},
   "source": [
    "__Exercise 1.__ Install the tiingo library with \n",
    "\n",
    "`pip install tiingo`\n",
    "\n",
    "\n",
    "Create a pandas data frame with one year of daily close prices of Microsoft, Tesla and Google. You may find the documentation useful: https://github.com/hydrosquall/tiingo-python.\n"
   ]
  },
  {
   "cell_type": "code",
   "execution_count": null,
   "metadata": {},
   "outputs": [],
   "source": []
  },
  {
   "cell_type": "markdown",
   "metadata": {},
   "source": [
    "__Exercise 2.__ You can also access the API without installing any additional packages. This is done with the requests library:\n",
    "\n",
    "`import requests`\n",
    "\n",
    "Create a data frame with Apple’s daily closing prices of the last year.\n",
    "Examples for connecting are in the API documentation at https://api.tiingo.com/documentation/ general/overview. \n",
    "\n",
    "You may find the folllowing pages useful for this exercise:\n",
    "\n",
    "* https://api.tiingo.com/documentation/general/connecting \n",
    "* https://api.tiingo.com/documentation/end-of-day"
   ]
  },
  {
   "cell_type": "code",
   "execution_count": null,
   "metadata": {},
   "outputs": [],
   "source": []
  }
 ],
 "metadata": {
  "kernelspec": {
   "display_name": "Python 3 (ipykernel)",
   "language": "python",
   "name": "python3"
  },
  "language_info": {
   "codemirror_mode": {
    "name": "ipython",
    "version": 3
   },
   "file_extension": ".py",
   "mimetype": "text/x-python",
   "name": "python",
   "nbconvert_exporter": "python",
   "pygments_lexer": "ipython3",
   "version": "3.10.9"
  },
  "toc": {
   "base_numbering": 1,
   "nav_menu": {},
   "number_sections": false,
   "sideBar": true,
   "skip_h1_title": false,
   "title_cell": "Table of Contents",
   "title_sidebar": "Contents",
   "toc_cell": false,
   "toc_position": {},
   "toc_section_display": true,
   "toc_window_display": false
  }
 },
 "nbformat": 4,
 "nbformat_minor": 4
}
