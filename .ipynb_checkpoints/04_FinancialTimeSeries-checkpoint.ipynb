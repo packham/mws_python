{
 "cells": [
  {
   "cell_type": "markdown",
   "metadata": {
    "hideCode": false,
    "hidePrompt": false,
    "slideshow": {
     "slide_type": "slide"
    }
   },
   "source": [
    "<b> \n",
    "    <font size=\"7\">\n",
    "        Methodenwerkstatt Statistik <br><br>\n",
    "        Introduction to Python\n",
    "    </font>\n",
    "</b>\n",
    "<br><br>\n",
    "<img src=\"pics/HWR.png\" width=400px>\n",
    "<br><br>\n",
    "<b>\n",
    "    <font size=\"5\"> \n",
    "        Prof. Dr. Natalie Packham <br>\n",
    "        Berlin School of Economics and Law <br>\n",
    "        Summer Term 2023\n",
    "    </font>\n",
    "</b>"
   ]
  },
  {
   "cell_type": "markdown",
   "metadata": {
    "hideCode": false,
    "hideOutput": false,
    "hidePrompt": false,
    "slideshow": {
     "slide_type": "slide"
    }
   },
   "source": [
    "<h1>Table of Contents<span class=\"tocSkip\"></span></h1>\n",
    "<div class=\"toc\"><ul class=\"toc-item\"><li><span><a href=\"#Financial-Time-Series\" data-toc-modified-id=\"Financial-Time-Series-4\"><span class=\"toc-item-num\">4&nbsp;&nbsp;</span>Financial Time Series</a></span><ul class=\"toc-item\"><li><span><a href=\"#Financial-Data\" data-toc-modified-id=\"Financial-Data-4.1\"><span class=\"toc-item-num\">4.1&nbsp;&nbsp;</span>Financial Data</a></span></li><li><span><a href=\"#Correlation-analysis-and-linear-regression\" data-toc-modified-id=\"Correlation-analysis-and-linear-regression-4.2\"><span class=\"toc-item-num\">4.2&nbsp;&nbsp;</span>Correlation analysis and linear regression</a></span></li></ul></li></ul></div>"
   ]
  },
  {
   "cell_type": "markdown",
   "metadata": {
    "hideCode": false,
    "hidePrompt": false,
    "slideshow": {
     "slide_type": "slide"
    }
   },
   "source": [
    "# Financial Time Series"
   ]
  },
  {
   "cell_type": "markdown",
   "metadata": {
    "hideCode": false,
    "hidePrompt": false,
    "slideshow": {
     "slide_type": "subslide"
    }
   },
   "source": [
    "* Time series are ubiquitous in finance. \n",
    "* `pandas` is the main library in Python to deal with time series. "
   ]
  },
  {
   "cell_type": "markdown",
   "metadata": {
    "hideCode": false,
    "hidePrompt": false,
    "slideshow": {
     "slide_type": "slide"
    }
   },
   "source": [
    "## Financial Data"
   ]
  },
  {
   "cell_type": "markdown",
   "metadata": {
    "hideCode": false,
    "hidePrompt": false,
    "slideshow": {
     "slide_type": "subslide"
    }
   },
   "source": [
    "### Financial data\n",
    "\n",
    "* For the time being we work with locally stored data files.\n",
    "* These are in `.csv`-files (comma-separated values), where the data entries in each row are separated by commas. \n",
    "* Some initialisation:"
   ]
  },
  {
   "cell_type": "code",
   "execution_count": 1,
   "metadata": {
    "hideCode": false,
    "hidePrompt": false
   },
   "outputs": [
    {
     "name": "stderr",
     "output_type": "stream",
     "text": [
      "/var/folders/46/b127yp714m71zfmt9j7_lhwh0000gq/T/ipykernel_16210/2492143664.py:4: MatplotlibDeprecationWarning: The seaborn styles shipped by Matplotlib are deprecated since 3.6, as they no longer correspond to the styles shipped by seaborn. However, they will remain available as 'seaborn-v0_8-<style>'. Alternatively, directly use the seaborn API instead.\n",
      "  plt.style.use('seaborn')\n"
     ]
    }
   ],
   "source": [
    "import numpy as np\n",
    "import pandas as pd\n",
    "import matplotlib.pyplot as plt \n",
    "plt.style.use('seaborn')\n",
    "plt.rcParams['font.family'] = 'serif'"
   ]
  },
  {
   "cell_type": "markdown",
   "metadata": {
    "hideCode": false,
    "hidePrompt": false,
    "slideshow": {
     "slide_type": "subslide"
    }
   },
   "source": [
    "### Data import\n",
    "* `pandas` provides a numer of different functions and `DataFrame` methods for importing and exporting data.\n",
    "* Here we use `pd.read_csv()`.\n",
    "* The file that we load contains end-of-day data for different financial instruments retrieved from Thomson Reuters. "
   ]
  },
  {
   "cell_type": "code",
   "execution_count": 2,
   "metadata": {
    "hideCode": false,
    "hidePrompt": false
   },
   "outputs": [
    {
     "data": {
      "text/plain": [
       "['Date,AAPL.O,MSFT.O,INTC.O,AMZN.O,GS.N,SPY,.SPX,.VIX,EUR=,XAU=,GDX,GLD\\n',\n",
       " '2010-01-01,,,,,,,,,1.4323,1096.35,,\\n',\n",
       " '2010-01-04,30.57282657,30.95,20.88,133.9,173.08,113.33,1132.99,20.04,1.4411,1120.0,47.71,109.8\\n',\n",
       " '2010-01-05,30.625683660000004,30.96,20.87,134.69,176.14,113.63,1136.52,19.35,1.4368,1118.65,48.17,109.7\\n',\n",
       " '2010-01-06,30.138541290000003,30.77,20.8,132.25,174.26,113.71,1137.14,19.16,1.4412,1138.5,49.34,111.51\\n']"
      ]
     },
     "execution_count": 2,
     "metadata": {},
     "output_type": "execute_result"
    }
   ],
   "source": [
    "# If using colab, then uncomment the line below and comment the line after that\n",
    "#filename = 'https://raw.githubusercontent.com/packham/Python_CFDS/main/data/tr_eikon_eod_data.csv'\n",
    "filename = './data/tr_eikon_eod_data.csv' # path and filename\n",
    "f = open(filename, 'r') # this will give an error when using colab; just ignore it\n",
    "f.readlines()[:5]  # show first five lines"
   ]
  },
  {
   "cell_type": "markdown",
   "metadata": {
    "hideCode": false,
    "hidePrompt": false,
    "slideshow": {
     "slide_type": "subslide"
    }
   },
   "source": [
    "### Data import"
   ]
  },
  {
   "cell_type": "code",
   "execution_count": 3,
   "metadata": {
    "hideCode": false,
    "hidePrompt": false
   },
   "outputs": [],
   "source": [
    "data = pd.read_csv(filename,  # import csv-data into DataFrame\n",
    "                   index_col=0, # take first column as index\n",
    "                   parse_dates=True)  # index values are datetime"
   ]
  },
  {
   "cell_type": "code",
   "execution_count": 4,
   "metadata": {
    "hideCode": false,
    "hidePrompt": false
   },
   "outputs": [
    {
     "name": "stdout",
     "output_type": "stream",
     "text": [
      "<class 'pandas.core.frame.DataFrame'>\n",
      "DatetimeIndex: 2216 entries, 2010-01-01 to 2018-06-29\n",
      "Data columns (total 12 columns):\n",
      " #   Column  Non-Null Count  Dtype  \n",
      "---  ------  --------------  -----  \n",
      " 0   AAPL.O  2138 non-null   float64\n",
      " 1   MSFT.O  2138 non-null   float64\n",
      " 2   INTC.O  2138 non-null   float64\n",
      " 3   AMZN.O  2138 non-null   float64\n",
      " 4   GS.N    2138 non-null   float64\n",
      " 5   SPY     2138 non-null   float64\n",
      " 6   .SPX    2138 non-null   float64\n",
      " 7   .VIX    2138 non-null   float64\n",
      " 8   EUR=    2216 non-null   float64\n",
      " 9   XAU=    2211 non-null   float64\n",
      " 10  GDX     2138 non-null   float64\n",
      " 11  GLD     2138 non-null   float64\n",
      "dtypes: float64(12)\n",
      "memory usage: 225.1 KB\n"
     ]
    }
   ],
   "source": [
    "data.info()  # information about the DataFrame object"
   ]
  },
  {
   "cell_type": "markdown",
   "metadata": {
    "hideCode": false,
    "hidePrompt": false,
    "slideshow": {
     "slide_type": "subslide"
    }
   },
   "source": [
    "### Data import"
   ]
  },
  {
   "cell_type": "code",
   "execution_count": 5,
   "metadata": {
    "hideCode": false,
    "hidePrompt": false
   },
   "outputs": [
    {
     "data": {
      "text/html": [
       "<div>\n",
       "<style scoped>\n",
       "    .dataframe tbody tr th:only-of-type {\n",
       "        vertical-align: middle;\n",
       "    }\n",
       "\n",
       "    .dataframe tbody tr th {\n",
       "        vertical-align: top;\n",
       "    }\n",
       "\n",
       "    .dataframe thead th {\n",
       "        text-align: right;\n",
       "    }\n",
       "</style>\n",
       "<table border=\"1\" class=\"dataframe\">\n",
       "  <thead>\n",
       "    <tr style=\"text-align: right;\">\n",
       "      <th></th>\n",
       "      <th>AAPL.O</th>\n",
       "      <th>MSFT.O</th>\n",
       "      <th>INTC.O</th>\n",
       "      <th>AMZN.O</th>\n",
       "      <th>GS.N</th>\n",
       "      <th>SPY</th>\n",
       "      <th>.SPX</th>\n",
       "      <th>.VIX</th>\n",
       "      <th>EUR=</th>\n",
       "      <th>XAU=</th>\n",
       "      <th>GDX</th>\n",
       "      <th>GLD</th>\n",
       "    </tr>\n",
       "    <tr>\n",
       "      <th>Date</th>\n",
       "      <th></th>\n",
       "      <th></th>\n",
       "      <th></th>\n",
       "      <th></th>\n",
       "      <th></th>\n",
       "      <th></th>\n",
       "      <th></th>\n",
       "      <th></th>\n",
       "      <th></th>\n",
       "      <th></th>\n",
       "      <th></th>\n",
       "      <th></th>\n",
       "    </tr>\n",
       "  </thead>\n",
       "  <tbody>\n",
       "    <tr>\n",
       "      <th>2010-01-01</th>\n",
       "      <td>NaN</td>\n",
       "      <td>NaN</td>\n",
       "      <td>NaN</td>\n",
       "      <td>NaN</td>\n",
       "      <td>NaN</td>\n",
       "      <td>NaN</td>\n",
       "      <td>NaN</td>\n",
       "      <td>NaN</td>\n",
       "      <td>1.4323</td>\n",
       "      <td>1096.35</td>\n",
       "      <td>NaN</td>\n",
       "      <td>NaN</td>\n",
       "    </tr>\n",
       "    <tr>\n",
       "      <th>2010-01-04</th>\n",
       "      <td>30.572827</td>\n",
       "      <td>30.950</td>\n",
       "      <td>20.88</td>\n",
       "      <td>133.90</td>\n",
       "      <td>173.08</td>\n",
       "      <td>113.33</td>\n",
       "      <td>1132.99</td>\n",
       "      <td>20.04</td>\n",
       "      <td>1.4411</td>\n",
       "      <td>1120.00</td>\n",
       "      <td>47.71</td>\n",
       "      <td>109.80</td>\n",
       "    </tr>\n",
       "    <tr>\n",
       "      <th>2010-01-05</th>\n",
       "      <td>30.625684</td>\n",
       "      <td>30.960</td>\n",
       "      <td>20.87</td>\n",
       "      <td>134.69</td>\n",
       "      <td>176.14</td>\n",
       "      <td>113.63</td>\n",
       "      <td>1136.52</td>\n",
       "      <td>19.35</td>\n",
       "      <td>1.4368</td>\n",
       "      <td>1118.65</td>\n",
       "      <td>48.17</td>\n",
       "      <td>109.70</td>\n",
       "    </tr>\n",
       "    <tr>\n",
       "      <th>2010-01-06</th>\n",
       "      <td>30.138541</td>\n",
       "      <td>30.770</td>\n",
       "      <td>20.80</td>\n",
       "      <td>132.25</td>\n",
       "      <td>174.26</td>\n",
       "      <td>113.71</td>\n",
       "      <td>1137.14</td>\n",
       "      <td>19.16</td>\n",
       "      <td>1.4412</td>\n",
       "      <td>1138.50</td>\n",
       "      <td>49.34</td>\n",
       "      <td>111.51</td>\n",
       "    </tr>\n",
       "    <tr>\n",
       "      <th>2010-01-07</th>\n",
       "      <td>30.082827</td>\n",
       "      <td>30.452</td>\n",
       "      <td>20.60</td>\n",
       "      <td>130.00</td>\n",
       "      <td>177.67</td>\n",
       "      <td>114.19</td>\n",
       "      <td>1141.69</td>\n",
       "      <td>19.06</td>\n",
       "      <td>1.4318</td>\n",
       "      <td>1131.90</td>\n",
       "      <td>49.10</td>\n",
       "      <td>110.82</td>\n",
       "    </tr>\n",
       "  </tbody>\n",
       "</table>\n",
       "</div>"
      ],
      "text/plain": [
       "               AAPL.O  MSFT.O  INTC.O  AMZN.O    GS.N     SPY     .SPX   .VIX  \\\n",
       "Date                                                                            \n",
       "2010-01-01        NaN     NaN     NaN     NaN     NaN     NaN      NaN    NaN   \n",
       "2010-01-04  30.572827  30.950   20.88  133.90  173.08  113.33  1132.99  20.04   \n",
       "2010-01-05  30.625684  30.960   20.87  134.69  176.14  113.63  1136.52  19.35   \n",
       "2010-01-06  30.138541  30.770   20.80  132.25  174.26  113.71  1137.14  19.16   \n",
       "2010-01-07  30.082827  30.452   20.60  130.00  177.67  114.19  1141.69  19.06   \n",
       "\n",
       "              EUR=     XAU=    GDX     GLD  \n",
       "Date                                        \n",
       "2010-01-01  1.4323  1096.35    NaN     NaN  \n",
       "2010-01-04  1.4411  1120.00  47.71  109.80  \n",
       "2010-01-05  1.4368  1118.65  48.17  109.70  \n",
       "2010-01-06  1.4412  1138.50  49.34  111.51  \n",
       "2010-01-07  1.4318  1131.90  49.10  110.82  "
      ]
     },
     "execution_count": 5,
     "metadata": {},
     "output_type": "execute_result"
    }
   ],
   "source": [
    "data.head()  "
   ]
  },
  {
   "cell_type": "markdown",
   "metadata": {
    "hideCode": false,
    "hidePrompt": false,
    "slideshow": {
     "slide_type": "subslide"
    }
   },
   "source": [
    "### Data import"
   ]
  },
  {
   "cell_type": "code",
   "execution_count": 6,
   "metadata": {
    "hideCode": false,
    "hidePrompt": false
   },
   "outputs": [
    {
     "data": {
      "text/html": [
       "<div>\n",
       "<style scoped>\n",
       "    .dataframe tbody tr th:only-of-type {\n",
       "        vertical-align: middle;\n",
       "    }\n",
       "\n",
       "    .dataframe tbody tr th {\n",
       "        vertical-align: top;\n",
       "    }\n",
       "\n",
       "    .dataframe thead th {\n",
       "        text-align: right;\n",
       "    }\n",
       "</style>\n",
       "<table border=\"1\" class=\"dataframe\">\n",
       "  <thead>\n",
       "    <tr style=\"text-align: right;\">\n",
       "      <th></th>\n",
       "      <th>AAPL.O</th>\n",
       "      <th>MSFT.O</th>\n",
       "      <th>INTC.O</th>\n",
       "      <th>AMZN.O</th>\n",
       "      <th>GS.N</th>\n",
       "      <th>SPY</th>\n",
       "      <th>.SPX</th>\n",
       "      <th>.VIX</th>\n",
       "      <th>EUR=</th>\n",
       "      <th>XAU=</th>\n",
       "      <th>GDX</th>\n",
       "      <th>GLD</th>\n",
       "    </tr>\n",
       "    <tr>\n",
       "      <th>Date</th>\n",
       "      <th></th>\n",
       "      <th></th>\n",
       "      <th></th>\n",
       "      <th></th>\n",
       "      <th></th>\n",
       "      <th></th>\n",
       "      <th></th>\n",
       "      <th></th>\n",
       "      <th></th>\n",
       "      <th></th>\n",
       "      <th></th>\n",
       "      <th></th>\n",
       "    </tr>\n",
       "  </thead>\n",
       "  <tbody>\n",
       "    <tr>\n",
       "      <th>2018-06-25</th>\n",
       "      <td>182.17</td>\n",
       "      <td>98.39</td>\n",
       "      <td>50.71</td>\n",
       "      <td>1663.15</td>\n",
       "      <td>221.54</td>\n",
       "      <td>271.00</td>\n",
       "      <td>2717.07</td>\n",
       "      <td>17.33</td>\n",
       "      <td>1.1702</td>\n",
       "      <td>1265.00</td>\n",
       "      <td>22.01</td>\n",
       "      <td>119.89</td>\n",
       "    </tr>\n",
       "    <tr>\n",
       "      <th>2018-06-26</th>\n",
       "      <td>184.43</td>\n",
       "      <td>99.08</td>\n",
       "      <td>49.67</td>\n",
       "      <td>1691.09</td>\n",
       "      <td>221.58</td>\n",
       "      <td>271.60</td>\n",
       "      <td>2723.06</td>\n",
       "      <td>15.92</td>\n",
       "      <td>1.1645</td>\n",
       "      <td>1258.64</td>\n",
       "      <td>21.95</td>\n",
       "      <td>119.26</td>\n",
       "    </tr>\n",
       "    <tr>\n",
       "      <th>2018-06-27</th>\n",
       "      <td>184.16</td>\n",
       "      <td>97.54</td>\n",
       "      <td>48.76</td>\n",
       "      <td>1660.51</td>\n",
       "      <td>220.18</td>\n",
       "      <td>269.35</td>\n",
       "      <td>2699.63</td>\n",
       "      <td>17.91</td>\n",
       "      <td>1.1552</td>\n",
       "      <td>1251.62</td>\n",
       "      <td>21.81</td>\n",
       "      <td>118.58</td>\n",
       "    </tr>\n",
       "    <tr>\n",
       "      <th>2018-06-28</th>\n",
       "      <td>185.50</td>\n",
       "      <td>98.63</td>\n",
       "      <td>49.25</td>\n",
       "      <td>1701.45</td>\n",
       "      <td>223.42</td>\n",
       "      <td>270.89</td>\n",
       "      <td>2716.31</td>\n",
       "      <td>16.85</td>\n",
       "      <td>1.1567</td>\n",
       "      <td>1247.88</td>\n",
       "      <td>21.93</td>\n",
       "      <td>118.22</td>\n",
       "    </tr>\n",
       "    <tr>\n",
       "      <th>2018-06-29</th>\n",
       "      <td>185.11</td>\n",
       "      <td>98.61</td>\n",
       "      <td>49.71</td>\n",
       "      <td>1699.80</td>\n",
       "      <td>220.57</td>\n",
       "      <td>271.28</td>\n",
       "      <td>2718.37</td>\n",
       "      <td>16.09</td>\n",
       "      <td>1.1683</td>\n",
       "      <td>1252.25</td>\n",
       "      <td>22.31</td>\n",
       "      <td>118.65</td>\n",
       "    </tr>\n",
       "  </tbody>\n",
       "</table>\n",
       "</div>"
      ],
      "text/plain": [
       "            AAPL.O  MSFT.O  INTC.O   AMZN.O    GS.N     SPY     .SPX   .VIX  \\\n",
       "Date                                                                          \n",
       "2018-06-25  182.17   98.39   50.71  1663.15  221.54  271.00  2717.07  17.33   \n",
       "2018-06-26  184.43   99.08   49.67  1691.09  221.58  271.60  2723.06  15.92   \n",
       "2018-06-27  184.16   97.54   48.76  1660.51  220.18  269.35  2699.63  17.91   \n",
       "2018-06-28  185.50   98.63   49.25  1701.45  223.42  270.89  2716.31  16.85   \n",
       "2018-06-29  185.11   98.61   49.71  1699.80  220.57  271.28  2718.37  16.09   \n",
       "\n",
       "              EUR=     XAU=    GDX     GLD  \n",
       "Date                                        \n",
       "2018-06-25  1.1702  1265.00  22.01  119.89  \n",
       "2018-06-26  1.1645  1258.64  21.95  119.26  \n",
       "2018-06-27  1.1552  1251.62  21.81  118.58  \n",
       "2018-06-28  1.1567  1247.88  21.93  118.22  \n",
       "2018-06-29  1.1683  1252.25  22.31  118.65  "
      ]
     },
     "execution_count": 6,
     "metadata": {},
     "output_type": "execute_result"
    }
   ],
   "source": [
    "data.tail()  "
   ]
  },
  {
   "cell_type": "markdown",
   "metadata": {
    "hideCode": false,
    "hidePrompt": false,
    "slideshow": {
     "slide_type": "subslide"
    }
   },
   "source": [
    "### Data import"
   ]
  },
  {
   "cell_type": "code",
   "execution_count": 7,
   "metadata": {
    "hideCode": false,
    "hidePrompt": false
   },
   "outputs": [
    {
     "data": {
      "image/png": "[encoded data removed]",
      "text/plain": [
       "<Figure size 1000x1000 with 12 Axes>"
      ]
     },
     "metadata": {},
     "output_type": "display_data"
    }
   ],
   "source": [
    "data.plot(figsize=(10, 10), subplots=True);  "
   ]
  },
  {
   "cell_type": "markdown",
   "metadata": {
    "hideCode": false,
    "hidePrompt": false,
    "slideshow": {
     "slide_type": "subslide"
    }
   },
   "source": [
    "### Data import\n",
    "\n",
    "* The identifiers used by Thomson Reuters are so-called RIC's. \n",
    "* The financial instruments in the data set are:"
   ]
  },
  {
   "cell_type": "code",
   "execution_count": 8,
   "metadata": {
    "hideCode": false,
    "hidePrompt": false
   },
   "outputs": [],
   "source": [
    "instruments = ['Apple Stock', 'Microsoft Stock',\n",
    "               'Intel Stock', 'Amazon Stock', 'Goldman Sachs Stock',\n",
    "               'SPDR S&P 500 ETF Trust', 'S&P 500 Index',\n",
    "               'VIX Volatility Index', 'EUR/USD Exchange Rate',\n",
    "               'Gold Price', 'VanEck Vectors Gold Miners ETF',\n",
    "               'SPDR Gold Trust']"
   ]
  },
  {
   "cell_type": "markdown",
   "metadata": {
    "hideCode": false,
    "hidePrompt": false,
    "slideshow": {
     "slide_type": "subslide"
    }
   },
   "source": [
    "### Data import"
   ]
  },
  {
   "cell_type": "code",
   "execution_count": 9,
   "metadata": {
    "hideCode": false,
    "hidePrompt": false
   },
   "outputs": [
    {
     "name": "stdout",
     "output_type": "stream",
     "text": [
      "AAPL.O   | Apple Stock\n",
      "MSFT.O   | Microsoft Stock\n",
      "INTC.O   | Intel Stock\n",
      "AMZN.O   | Amazon Stock\n",
      "GS.N     | Goldman Sachs Stock\n",
      "SPY      | SPDR S&P 500 ETF Trust\n",
      ".SPX     | S&P 500 Index\n",
      ".VIX     | VIX Volatility Index\n",
      "EUR=     | EUR/USD Exchange Rate\n",
      "XAU=     | Gold Price\n",
      "GDX      | VanEck Vectors Gold Miners ETF\n",
      "GLD      | SPDR Gold Trust\n"
     ]
    }
   ],
   "source": [
    "for ric, name in zip(data.columns, instruments):\n",
    "    print('{:8s} | {}'.format(ric, name))"
   ]
  },
  {
   "cell_type": "markdown",
   "metadata": {
    "hideCode": false,
    "hidePrompt": false,
    "slideshow": {
     "slide_type": "subslide"
    }
   },
   "source": [
    "### Summary statistics"
   ]
  },
  {
   "cell_type": "code",
   "execution_count": 10,
   "metadata": {
    "hideCode": false,
    "hidePrompt": false
   },
   "outputs": [
    {
     "data": {
      "text/html": [
       "<div>\n",
       "<style scoped>\n",
       "    .dataframe tbody tr th:only-of-type {\n",
       "        vertical-align: middle;\n",
       "    }\n",
       "\n",
       "    .dataframe tbody tr th {\n",
       "        vertical-align: top;\n",
       "    }\n",
       "\n",
       "    .dataframe thead th {\n",
       "        text-align: right;\n",
       "    }\n",
       "</style>\n",
       "<table border=\"1\" class=\"dataframe\">\n",
       "  <thead>\n",
       "    <tr style=\"text-align: right;\">\n",
       "      <th></th>\n",
       "      <th>AAPL.O</th>\n",
       "      <th>MSFT.O</th>\n",
       "      <th>INTC.O</th>\n",
       "      <th>AMZN.O</th>\n",
       "      <th>GS.N</th>\n",
       "      <th>SPY</th>\n",
       "      <th>.SPX</th>\n",
       "      <th>.VIX</th>\n",
       "      <th>EUR=</th>\n",
       "      <th>XAU=</th>\n",
       "      <th>GDX</th>\n",
       "      <th>GLD</th>\n",
       "    </tr>\n",
       "  </thead>\n",
       "  <tbody>\n",
       "    <tr>\n",
       "      <th>count</th>\n",
       "      <td>2138.00</td>\n",
       "      <td>2138.00</td>\n",
       "      <td>2138.00</td>\n",
       "      <td>2138.00</td>\n",
       "      <td>2138.00</td>\n",
       "      <td>2138.00</td>\n",
       "      <td>2138.00</td>\n",
       "      <td>2138.00</td>\n",
       "      <td>2216.00</td>\n",
       "      <td>2211.00</td>\n",
       "      <td>2138.00</td>\n",
       "      <td>2138.00</td>\n",
       "    </tr>\n",
       "    <tr>\n",
       "      <th>mean</th>\n",
       "      <td>93.46</td>\n",
       "      <td>44.56</td>\n",
       "      <td>29.36</td>\n",
       "      <td>480.46</td>\n",
       "      <td>170.22</td>\n",
       "      <td>180.32</td>\n",
       "      <td>1802.71</td>\n",
       "      <td>17.03</td>\n",
       "      <td>1.25</td>\n",
       "      <td>1349.01</td>\n",
       "      <td>33.57</td>\n",
       "      <td>130.09</td>\n",
       "    </tr>\n",
       "    <tr>\n",
       "      <th>std</th>\n",
       "      <td>40.55</td>\n",
       "      <td>19.53</td>\n",
       "      <td>8.17</td>\n",
       "      <td>372.31</td>\n",
       "      <td>42.48</td>\n",
       "      <td>48.19</td>\n",
       "      <td>483.34</td>\n",
       "      <td>5.88</td>\n",
       "      <td>0.11</td>\n",
       "      <td>188.75</td>\n",
       "      <td>15.17</td>\n",
       "      <td>18.78</td>\n",
       "    </tr>\n",
       "    <tr>\n",
       "      <th>min</th>\n",
       "      <td>27.44</td>\n",
       "      <td>23.01</td>\n",
       "      <td>17.66</td>\n",
       "      <td>108.61</td>\n",
       "      <td>87.70</td>\n",
       "      <td>102.20</td>\n",
       "      <td>1022.58</td>\n",
       "      <td>9.14</td>\n",
       "      <td>1.04</td>\n",
       "      <td>1051.36</td>\n",
       "      <td>12.47</td>\n",
       "      <td>100.50</td>\n",
       "    </tr>\n",
       "    <tr>\n",
       "      <th>25%</th>\n",
       "      <td>60.29</td>\n",
       "      <td>28.57</td>\n",
       "      <td>22.51</td>\n",
       "      <td>213.60</td>\n",
       "      <td>146.61</td>\n",
       "      <td>133.99</td>\n",
       "      <td>1338.57</td>\n",
       "      <td>13.07</td>\n",
       "      <td>1.13</td>\n",
       "      <td>1221.53</td>\n",
       "      <td>22.14</td>\n",
       "      <td>117.40</td>\n",
       "    </tr>\n",
       "    <tr>\n",
       "      <th>50%</th>\n",
       "      <td>90.55</td>\n",
       "      <td>39.66</td>\n",
       "      <td>27.33</td>\n",
       "      <td>322.06</td>\n",
       "      <td>164.43</td>\n",
       "      <td>186.32</td>\n",
       "      <td>1863.08</td>\n",
       "      <td>15.58</td>\n",
       "      <td>1.27</td>\n",
       "      <td>1292.61</td>\n",
       "      <td>25.62</td>\n",
       "      <td>124.00</td>\n",
       "    </tr>\n",
       "    <tr>\n",
       "      <th>75%</th>\n",
       "      <td>117.24</td>\n",
       "      <td>54.37</td>\n",
       "      <td>34.71</td>\n",
       "      <td>698.85</td>\n",
       "      <td>192.13</td>\n",
       "      <td>210.99</td>\n",
       "      <td>2108.94</td>\n",
       "      <td>19.07</td>\n",
       "      <td>1.35</td>\n",
       "      <td>1428.24</td>\n",
       "      <td>48.34</td>\n",
       "      <td>139.00</td>\n",
       "    </tr>\n",
       "    <tr>\n",
       "      <th>max</th>\n",
       "      <td>193.98</td>\n",
       "      <td>102.49</td>\n",
       "      <td>57.08</td>\n",
       "      <td>1750.08</td>\n",
       "      <td>273.38</td>\n",
       "      <td>286.58</td>\n",
       "      <td>2872.87</td>\n",
       "      <td>48.00</td>\n",
       "      <td>1.48</td>\n",
       "      <td>1898.99</td>\n",
       "      <td>66.63</td>\n",
       "      <td>184.59</td>\n",
       "    </tr>\n",
       "  </tbody>\n",
       "</table>\n",
       "</div>"
      ],
      "text/plain": [
       "        AAPL.O   MSFT.O   INTC.O   AMZN.O     GS.N      SPY     .SPX     .VIX  \\\n",
       "count  2138.00  2138.00  2138.00  2138.00  2138.00  2138.00  2138.00  2138.00   \n",
       "mean     93.46    44.56    29.36   480.46   170.22   180.32  1802.71    17.03   \n",
       "std      40.55    19.53     8.17   372.31    42.48    48.19   483.34     5.88   \n",
       "min      27.44    23.01    17.66   108.61    87.70   102.20  1022.58     9.14   \n",
       "25%      60.29    28.57    22.51   213.60   146.61   133.99  1338.57    13.07   \n",
       "50%      90.55    39.66    27.33   322.06   164.43   186.32  1863.08    15.58   \n",
       "75%     117.24    54.37    34.71   698.85   192.13   210.99  2108.94    19.07   \n",
       "max     193.98   102.49    57.08  1750.08   273.38   286.58  2872.87    48.00   \n",
       "\n",
       "          EUR=     XAU=      GDX      GLD  \n",
       "count  2216.00  2211.00  2138.00  2138.00  \n",
       "mean      1.25  1349.01    33.57   130.09  \n",
       "std       0.11   188.75    15.17    18.78  \n",
       "min       1.04  1051.36    12.47   100.50  \n",
       "25%       1.13  1221.53    22.14   117.40  \n",
       "50%       1.27  1292.61    25.62   124.00  \n",
       "75%       1.35  1428.24    48.34   139.00  \n",
       "max       1.48  1898.99    66.63   184.59  "
      ]
     },
     "execution_count": 10,
     "metadata": {},
     "output_type": "execute_result"
    }
   ],
   "source": [
    "data.describe().round(2)  "
   ]
  },
  {
   "cell_type": "markdown",
   "metadata": {
    "hideCode": false,
    "hidePrompt": false,
    "slideshow": {
     "slide_type": "subslide"
    }
   },
   "source": [
    "### Summary statistics\n",
    "* The `aggregate()`-function allows to customise the statistics viewed:"
   ]
  },
  {
   "cell_type": "code",
   "execution_count": 11,
   "metadata": {
    "hideCode": false,
    "hidePrompt": false
   },
   "outputs": [
    {
     "data": {
      "text/html": [
       "<div>\n",
       "<style scoped>\n",
       "    .dataframe tbody tr th:only-of-type {\n",
       "        vertical-align: middle;\n",
       "    }\n",
       "\n",
       "    .dataframe tbody tr th {\n",
       "        vertical-align: top;\n",
       "    }\n",
       "\n",
       "    .dataframe thead th {\n",
       "        text-align: right;\n",
       "    }\n",
       "</style>\n",
       "<table border=\"1\" class=\"dataframe\">\n",
       "  <thead>\n",
       "    <tr style=\"text-align: right;\">\n",
       "      <th></th>\n",
       "      <th>AAPL.O</th>\n",
       "      <th>MSFT.O</th>\n",
       "      <th>INTC.O</th>\n",
       "      <th>AMZN.O</th>\n",
       "      <th>GS.N</th>\n",
       "      <th>SPY</th>\n",
       "      <th>.SPX</th>\n",
       "      <th>.VIX</th>\n",
       "      <th>EUR=</th>\n",
       "      <th>XAU=</th>\n",
       "      <th>GDX</th>\n",
       "      <th>GLD</th>\n",
       "    </tr>\n",
       "  </thead>\n",
       "  <tbody>\n",
       "    <tr>\n",
       "      <th>min</th>\n",
       "      <td>27.44</td>\n",
       "      <td>23.01</td>\n",
       "      <td>17.66</td>\n",
       "      <td>108.61</td>\n",
       "      <td>87.70</td>\n",
       "      <td>102.20</td>\n",
       "      <td>1022.58</td>\n",
       "      <td>9.14</td>\n",
       "      <td>1.04</td>\n",
       "      <td>1051.36</td>\n",
       "      <td>12.47</td>\n",
       "      <td>100.50</td>\n",
       "    </tr>\n",
       "    <tr>\n",
       "      <th>mean</th>\n",
       "      <td>93.46</td>\n",
       "      <td>44.56</td>\n",
       "      <td>29.36</td>\n",
       "      <td>480.46</td>\n",
       "      <td>170.22</td>\n",
       "      <td>180.32</td>\n",
       "      <td>1802.71</td>\n",
       "      <td>17.03</td>\n",
       "      <td>1.25</td>\n",
       "      <td>1349.01</td>\n",
       "      <td>33.57</td>\n",
       "      <td>130.09</td>\n",
       "    </tr>\n",
       "    <tr>\n",
       "      <th>std</th>\n",
       "      <td>40.55</td>\n",
       "      <td>19.53</td>\n",
       "      <td>8.17</td>\n",
       "      <td>372.31</td>\n",
       "      <td>42.48</td>\n",
       "      <td>48.19</td>\n",
       "      <td>483.34</td>\n",
       "      <td>5.88</td>\n",
       "      <td>0.11</td>\n",
       "      <td>188.75</td>\n",
       "      <td>15.17</td>\n",
       "      <td>18.78</td>\n",
       "    </tr>\n",
       "    <tr>\n",
       "      <th>median</th>\n",
       "      <td>90.55</td>\n",
       "      <td>39.66</td>\n",
       "      <td>27.33</td>\n",
       "      <td>322.06</td>\n",
       "      <td>164.43</td>\n",
       "      <td>186.32</td>\n",
       "      <td>1863.08</td>\n",
       "      <td>15.58</td>\n",
       "      <td>1.27</td>\n",
       "      <td>1292.61</td>\n",
       "      <td>25.62</td>\n",
       "      <td>124.00</td>\n",
       "    </tr>\n",
       "    <tr>\n",
       "      <th>max</th>\n",
       "      <td>193.98</td>\n",
       "      <td>102.49</td>\n",
       "      <td>57.08</td>\n",
       "      <td>1750.08</td>\n",
       "      <td>273.38</td>\n",
       "      <td>286.58</td>\n",
       "      <td>2872.87</td>\n",
       "      <td>48.00</td>\n",
       "      <td>1.48</td>\n",
       "      <td>1898.99</td>\n",
       "      <td>66.63</td>\n",
       "      <td>184.59</td>\n",
       "    </tr>\n",
       "  </tbody>\n",
       "</table>\n",
       "</div>"
      ],
      "text/plain": [
       "        AAPL.O  MSFT.O  INTC.O   AMZN.O    GS.N     SPY     .SPX   .VIX  EUR=  \\\n",
       "min      27.44   23.01   17.66   108.61   87.70  102.20  1022.58   9.14  1.04   \n",
       "mean     93.46   44.56   29.36   480.46  170.22  180.32  1802.71  17.03  1.25   \n",
       "std      40.55   19.53    8.17   372.31   42.48   48.19   483.34   5.88  0.11   \n",
       "median   90.55   39.66   27.33   322.06  164.43  186.32  1863.08  15.58  1.27   \n",
       "max     193.98  102.49   57.08  1750.08  273.38  286.58  2872.87  48.00  1.48   \n",
       "\n",
       "           XAU=    GDX     GLD  \n",
       "min     1051.36  12.47  100.50  \n",
       "mean    1349.01  33.57  130.09  \n",
       "std      188.75  15.17   18.78  \n",
       "median  1292.61  25.62  124.00  \n",
       "max     1898.99  66.63  184.59  "
      ]
     },
     "execution_count": 11,
     "metadata": {},
     "output_type": "execute_result"
    }
   ],
   "source": [
    "data.aggregate([min,  \n",
    "                np.mean,  \n",
    "                np.std,  \n",
    "                np.median,  \n",
    "                max]  \n",
    ").round(2)"
   ]
  },
  {
   "cell_type": "markdown",
   "metadata": {
    "hideCode": false,
    "hidePrompt": false,
    "slideshow": {
     "slide_type": "subslide"
    }
   },
   "source": [
    "### Returns\n",
    "* When working with financial data we typically (=always - you must have good reasons to deviate from this) work with performance data, i.e., __returns__. \n",
    "* Reasoning: \n",
    "     * Historical data are mainly used to make forecasts one or several time periods forward. \n",
    "     * The daily average stock price over the last eight years is meaningless to make a forecast for tomorrow's stock price. \n",
    "     * However, the daily returns are possible scenarios for the next time period(s). \n",
    "* The function `pct_change()` calculates discrete returns: \n",
    "$$r_t^{\\rm d}=\\frac{S_{t}-S_{t-1}}{S_{t-1}},$$\n",
    "     where $S_t$ denotes the stock price at time $t$. "
   ]
  },
  {
   "cell_type": "markdown",
   "metadata": {
    "hideCode": false,
    "hidePrompt": false,
    "slideshow": {
     "slide_type": "subslide"
    }
   },
   "source": [
    "### Returns"
   ]
  },
  {
   "cell_type": "code",
   "execution_count": null,
   "metadata": {
    "hideCode": false,
    "hidePrompt": false
   },
   "outputs": [],
   "source": [
    "data.pct_change().round(3).head()  "
   ]
  },
  {
   "cell_type": "markdown",
   "metadata": {
    "hideCode": false,
    "hidePrompt": false,
    "slideshow": {
     "slide_type": "subslide"
    }
   },
   "source": [
    "### Returns"
   ]
  },
  {
   "cell_type": "code",
   "execution_count": null,
   "metadata": {
    "hideCode": false,
    "hidePrompt": false
   },
   "outputs": [],
   "source": [
    "data.pct_change().mean().plot(kind='bar', figsize=(10, 6));  "
   ]
  },
  {
   "cell_type": "markdown",
   "metadata": {
    "hideCode": false,
    "hidePrompt": false,
    "slideshow": {
     "slide_type": "subslide"
    }
   },
   "source": [
    "### Returns\n",
    "* In finance, __log-returns__, also called __continuous returns__, are often preferred over discrete returns: \n",
    "$r_t^{\\rm c} = \\ln\\left(\\frac{S_t}{S_{t-1}}\\right).$\n",
    "* The main reason is that log-return are additive over time. \n",
    "* For example, the log-return from $t-1$ to $t+1$ is the sum of the single-period log-returns: \n",
    "$$r_{t-1,t+1}^{\\rm c} = \\ln \\left(\\frac{S_{t+1}}{S_t}\\right) + \\ln \\left(\\frac{S_t}{S_{t-1}}\\right) = \\ln\\left(\\frac{S_{t+1}}{S_t}\\cdot \\frac{S_t}{S_{t-1}}\\right) = \\ln\\left(\\frac{S_{t+1}}{S_{t-1}}\\right).$$\n",
    "* Note: If the sampling (time) interval is small (e.g. one day or one week), then the difference between discrete returns and log-returns is negligible. "
   ]
  },
  {
   "cell_type": "markdown",
   "metadata": {
    "hideCode": false,
    "hidePrompt": false,
    "slideshow": {
     "slide_type": "subslide"
    }
   },
   "source": [
    "### Returns"
   ]
  },
  {
   "cell_type": "code",
   "execution_count": null,
   "metadata": {
    "hideCode": false,
    "hidePrompt": false
   },
   "outputs": [],
   "source": [
    "rets = np.log(data / data.shift(1))  # calculates log-returns in a vectorised way"
   ]
  },
  {
   "cell_type": "code",
   "execution_count": null,
   "metadata": {
    "hideCode": false,
    "hidePrompt": false
   },
   "outputs": [],
   "source": [
    "rets.head().round(3)  "
   ]
  },
  {
   "cell_type": "markdown",
   "metadata": {
    "hideCode": false,
    "hidePrompt": false,
    "slideshow": {
     "slide_type": "subslide"
    }
   },
   "source": [
    "### Returns"
   ]
  },
  {
   "cell_type": "code",
   "execution_count": null,
   "metadata": {
    "hideCode": false,
    "hidePrompt": false
   },
   "outputs": [],
   "source": [
    "rets.cumsum().apply(np.exp).plot(figsize=(10, 6));  # recover price paths from log-returns"
   ]
  },
  {
   "cell_type": "markdown",
   "metadata": {
    "hideCode": false,
    "hidePrompt": false,
    "slideshow": {
     "slide_type": "slide"
    }
   },
   "source": [
    "## Correlation analysis and linear regression\n",
    "* To further illustrate how to work with financial time series we consider the S&P 500 stock index and the VIX volatility index. \n",
    "* Empirical stylised fact: As the S&P 500 rises, the VIX falls, and vice versa. \n",
    "* Note: This is about __correlation__ not __causation__. "
   ]
  },
  {
   "cell_type": "markdown",
   "metadata": {
    "hideCode": false,
    "hidePrompt": false,
    "slideshow": {
     "slide_type": "subslide"
    }
   },
   "source": [
    "### Correlation analysis"
   ]
  },
  {
   "cell_type": "code",
   "execution_count": null,
   "metadata": {
    "hideCode": false,
    "hidePrompt": false
   },
   "outputs": [],
   "source": [
    "# EOD data from Thomson Reuters Eikon Data API\n",
    "\n",
    "# If using colab, then uncomment the line below and comment the line after that\n",
    "#raw = pd.read_csv('https://raw.githubusercontent.com/packham/Python_CFDS/main/data/tr_eikon_eod_data.csv', index_col=0, parse_dates=True)\n",
    "raw = pd.read_csv('./data/tr_eikon_eod_data.csv', index_col=0, parse_dates=True)\n",
    "data = raw[['.SPX', '.VIX']].dropna()\n",
    "data.tail()"
   ]
  },
  {
   "cell_type": "markdown",
   "metadata": {
    "hideCode": false,
    "hidePrompt": false,
    "slideshow": {
     "slide_type": "subslide"
    }
   },
   "source": [
    "### Correlation analysis"
   ]
  },
  {
   "cell_type": "code",
   "execution_count": null,
   "metadata": {
    "hideCode": false,
    "hidePrompt": false
   },
   "outputs": [],
   "source": [
    "data.plot(subplots=True, figsize=(10, 6));"
   ]
  },
  {
   "cell_type": "markdown",
   "metadata": {
    "hideCode": false,
    "hidePrompt": false,
    "slideshow": {
     "slide_type": "subslide"
    }
   },
   "source": [
    "### Correlation analysis\n",
    "* Transform both data series into log-returns:"
   ]
  },
  {
   "cell_type": "code",
   "execution_count": null,
   "metadata": {
    "hideCode": false,
    "hidePrompt": false
   },
   "outputs": [],
   "source": [
    "rets = np.log(data / data.shift(1)) \n",
    "rets.head()"
   ]
  },
  {
   "cell_type": "code",
   "execution_count": null,
   "metadata": {
    "hideCode": false,
    "hidePrompt": false
   },
   "outputs": [],
   "source": [
    "rets.dropna(inplace=True) # drop NaN (not-a-number) entries"
   ]
  },
  {
   "cell_type": "markdown",
   "metadata": {
    "hideCode": false,
    "hidePrompt": false,
    "slideshow": {
     "slide_type": "subslide"
    }
   },
   "source": [
    "### Correlation analysis"
   ]
  },
  {
   "cell_type": "code",
   "execution_count": null,
   "metadata": {
    "hideCode": false,
    "hidePrompt": false
   },
   "outputs": [],
   "source": [
    "rets.plot(subplots=True, figsize=(10, 6));"
   ]
  },
  {
   "cell_type": "markdown",
   "metadata": {
    "hideCode": false,
    "hidePrompt": false,
    "slideshow": {
     "slide_type": "subslide"
    }
   },
   "source": [
    "### Correlation analysis"
   ]
  },
  {
   "cell_type": "code",
   "execution_count": null,
   "metadata": {
    "hideCode": false,
    "hidePrompt": false
   },
   "outputs": [],
   "source": [
    "pd.plotting.scatter_matrix(rets,  \n",
    "                           alpha=0.2,  \n",
    "                           diagonal='hist',  \n",
    "                           hist_kwds={'bins': 35},  \n",
    "                           figsize=(10, 6));"
   ]
  },
  {
   "cell_type": "markdown",
   "metadata": {
    "hideCode": false,
    "hidePrompt": false,
    "slideshow": {
     "slide_type": "subslide"
    }
   },
   "source": [
    "### Correlation analysis"
   ]
  },
  {
   "cell_type": "code",
   "execution_count": null,
   "metadata": {
    "hideCode": false,
    "hidePrompt": false
   },
   "outputs": [],
   "source": [
    "rets.corr()"
   ]
  },
  {
   "cell_type": "markdown",
   "metadata": {
    "hideCode": false,
    "hidePrompt": false,
    "slideshow": {
     "slide_type": "subslide"
    }
   },
   "source": [
    "### OLS regression\n",
    "* __Linear regression__ captures the linear relationship between two variables. \n",
    "* For two variables $x,y$, we postulate a linear relationship: \n",
    "$$ y = \\alpha + \\beta x + \\varepsilon, \\quad \\alpha, \\beta\\in \\mathbb{R}.$$\n",
    "* Here, $\\alpha$ is the __intercept__, $\\beta$ is the __slope (coefficient)__ and $\\varepsilon$ is the __error term__. \n",
    "* Given  data sample of joint observations $(x_1,y_1), \\ldots, (x_n,y_n)$, we set \n",
    "$$ y_i = \\hat\\alpha + \\hat\\beta x_i + \\hat\\varepsilon_i,$$\n",
    "where $\\hat\\alpha$ and $\\hat\\beta$ are estimates of $\\alpha,\\beta$ and $\\hat\\varepsilon_1,\n",
    "\\ldots, \\hat\\varepsilon_n$ are the so-called __residuals__. \n",
    "* The __ordinary least squares (OLS)__ estimator $\\hat\\alpha,\\hat\\beta$ corresponds to those values of $\\alpha,\\beta$ that minimise the sum of squared residuals: \n",
    "$$\\min_{\\alpha,\\beta} \\sum_{i=1}^n \\varepsilon_i^2 = \\sum_{i=1}^n (y_i-\\alpha-\\beta x_i)^2.$$"
   ]
  },
  {
   "cell_type": "markdown",
   "metadata": {
    "hideCode": false,
    "hidePrompt": false,
    "slideshow": {
     "slide_type": "subslide"
    }
   },
   "source": [
    "### OLS regressions\n",
    "* Simplest form of OLS regression:"
   ]
  },
  {
   "cell_type": "code",
   "execution_count": null,
   "metadata": {
    "hideCode": false,
    "hidePrompt": false
   },
   "outputs": [],
   "source": [
    "reg = np.polyfit(rets['.SPX'], rets['.VIX'], deg=1)  # fit a linear equation (a polynomial of degree 1)\n",
    "reg.view() # the fitted paramters"
   ]
  },
  {
   "cell_type": "code",
   "execution_count": null,
   "metadata": {
    "hideCode": false,
    "hidePrompt": false
   },
   "outputs": [],
   "source": [
    "ax = rets.plot(kind='scatter', x='.SPX', y='.VIX', figsize=(8, 5)) \n",
    "ax.plot(rets['.SPX'], np.polyval(reg, rets['.SPX']), 'r', lw=2);"
   ]
  },
  {
   "cell_type": "markdown",
   "metadata": {
    "hideCode": false,
    "hidePrompt": false,
    "slideshow": {
     "slide_type": "subslide"
    }
   },
   "source": [
    "### OLS regression\n",
    "* To do a more refined OLS regression with a proper analysis, use the package `statsmodels`. "
   ]
  },
  {
   "cell_type": "code",
   "execution_count": null,
   "metadata": {
    "hideCode": false,
    "hidePrompt": false
   },
   "outputs": [],
   "source": [
    "import statsmodels.api as sm\n",
    "\n",
    "Y=rets['.VIX']\n",
    "X=rets['.SPX']\n",
    "X = sm.add_constant(X)"
   ]
  },
  {
   "cell_type": "code",
   "execution_count": null,
   "metadata": {
    "hideCode": false,
    "hidePrompt": false
   },
   "outputs": [],
   "source": [
    "model = sm.OLS(Y,X)\n",
    "results = model.fit()"
   ]
  },
  {
   "cell_type": "code",
   "execution_count": null,
   "metadata": {
    "hideCode": false,
    "hidePrompt": false
   },
   "outputs": [],
   "source": [
    "results.params"
   ]
  },
  {
   "cell_type": "code",
   "execution_count": null,
   "metadata": {
    "hideCode": false,
    "hidePrompt": false
   },
   "outputs": [],
   "source": [
    "results.predict()[0:10]"
   ]
  },
  {
   "cell_type": "markdown",
   "metadata": {
    "hideCode": false,
    "hidePrompt": false,
    "slideshow": {
     "slide_type": "subslide"
    }
   },
   "source": [
    "### OLS regression"
   ]
  },
  {
   "cell_type": "code",
   "execution_count": null,
   "metadata": {
    "hideCode": false,
    "hidePrompt": false
   },
   "outputs": [],
   "source": [
    "print(results.summary())"
   ]
  },
  {
   "cell_type": "markdown",
   "metadata": {
    "slideshow": {
     "slide_type": "subslide"
    }
   },
   "source": [
    "### OLS regression: Interpretation of output and forecasting\n",
    "* The column `coef` lists the coefficients of the regression: the coefficient in the row labelled `const` corresponds to $\\hat\\alpha$ ($=0.0026$) and the coefficient in the row `.SPX` denotes $\\hat\\beta$ ($=-6.6515$). \n",
    "* The estimated model in the example is thus: \n",
    "$$\n",
    "\\text{.VIX} = 0.0026 - 6.6516 \\text{.SPX}. \n",
    "$$\n",
    "* The best forecast of the VIX return when observing an S&P return of 2% is therefore $0.0026 - 6.6516\\cdot 0.02 = -0.130432 = -13.0432\\%$. "
   ]
  },
  {
   "cell_type": "markdown",
   "metadata": {
    "slideshow": {
     "slide_type": "subslide"
    }
   },
   "source": [
    "### OLS regression: Validation ($R^2$)\n",
    "* To __validate__ the model, i.e., to determine, if the model in itself and the explanatory variable(s) make sense, we look $R^2$ and various $p$-values (or confidence intervals or $t$-statistics). \n",
    "* $R^2$ measures the fraction of variance in the dependent variable $Y$ that is captured by the regression line; $1-R^2$ is the fraction of $Y$-variance that remaines in the residuals $\\varepsilon_i^2$, $i=1,\\ldots, n$. \n",
    "* In the output above $R^2$ is given as $0.647$. In other words, $64.7\\%$ of the variance in VIX returns are \"explained\" by SPX returns. \n",
    "* A high $R^2$ (and this one is high) is necessary for making forecasts. "
   ]
  },
  {
   "cell_type": "markdown",
   "metadata": {
    "slideshow": {
     "slide_type": "subslide"
    }
   },
   "source": [
    "### OLS regression: Validation (confidence interval)\n",
    "* An important hypothesis to test in any regression model is whether the explanatory variable(s) have an effect on the independent variable. \n",
    "* This can be translated into testing whether $\\beta\\not=0$. ($\\beta=0$ is the same as saying that the $X$ variable can be removed from the model.)\n",
    "* Formally, we test the null hypothesis $H_0: \\beta=0$ against the alternative hypothesis $H_1: \\beta\\not=0$. \n",
    "* There are several statistics to come to the same conclusion: confidence intervals, $t$-statistics and $p$-values. \n",
    "* The __confidence interval__ is an interval around the estimate $\\hat\\beta$ that we are confident contains the true parameter $\\beta$. A typial __confidence level__ is 95%. \n",
    "* If the 95% confidence interval does __not__ contain 0, then we say $\\beta$ is __statistically significant__ at the 5% (=1-95%) level, and we conclude that $\\beta\\not=0$. "
   ]
  },
  {
   "cell_type": "markdown",
   "metadata": {
    "slideshow": {
     "slide_type": "subslide"
    }
   },
   "source": [
    "### OLS regression: Validation ($t$-statistic)\n",
    "* The $t$-statistic corresponds to the __number of standard deviations__ that the estimated coefficient $\\hat\\beta$ is away from $0$ (the mean under $H_0$). \n",
    "* For a normal distribution, we have the following rules of thumb: \n",
    "    * $66\\%$ of observations lie within one standard deviation of the mean\n",
    "    * $95\\%$ of observations lie within two standard deviations of the mean\n",
    "    * $99.7\\%$ of observations lie within three standard deviations of the mean  \n",
    "<center>\n",
    "<img src=\"pics/normal6.png\" width=400px>\n",
    "</center>\n",
    "* If the sample size is large enough, then the $t$-statistic is approximately normally distributed, and if it is large (in absolute terms), then this is an indication against $\\beta=0$. \n",
    "* In the example above, the $t$-statistics is -62.559, i.e., $\\hat\\beta$ is approx. 63 standard deviations away from zero, which is practically impossible. \n",
    "    "
   ]
  },
  {
   "cell_type": "markdown",
   "metadata": {
    "slideshow": {
     "slide_type": "subslide"
    }
   },
   "source": [
    "### OLS regression: Validation ($p$-value)\n",
    "* The $p$-value expresses the probability of observing a coefficient estimate as extreme (away from zero) as $\\hat\\beta$ under $H_0$, i.e., when $\\beta=0$. \n",
    "* In other words, it measures the probability of observing a $t$-statistic as extreme as the one observed if $\\beta=0$. \n",
    "* If the $p$-value (column ``P>|t|``) is smaller than the desired level of significance (typically 5%), then the $H_0$ can be rejected and we conclude that $\\beta\\not=0$. \n",
    "* In the example above, the $p$-value is given as $0.000$, i.e., it is so small, that we can conclude the estimated coefficient $\\hat\\beta$ is so extreme (= away from zero) that is virtually impossible to obtain such an estimated if $\\beta=0$. \n",
    "\n",
    "* Finally, the $F$-test tests the hypotheses $H_0:R^2=0$ versus $H_1:R^2\\not=0$. In a multiple regression with $k$ independent variables, this is equivalent to $H_0: \\beta_1=\\cdots=\\beta_k=0$. \n",
    "* In the example above, the $p$-value of the $F$-test is $0$, so we conclude that the model overall has explanatory power. \n",
    "    "
   ]
  }
 ],
 "metadata": {
  "celltoolbar": "Slideshow",
  "hide_code_all_hidden": true,
  "kernelspec": {
   "display_name": "Python 3 (ipykernel)",
   "language": "python",
   "name": "python3"
  },
  "language_info": {
   "codemirror_mode": {
    "name": "ipython",
    "version": 3
   },
   "file_extension": ".py",
   "mimetype": "text/x-python",
   "name": "python",
   "nbconvert_exporter": "python",
   "pygments_lexer": "ipython3",
   "version": "3.10.9"
  },
  "latex_metadata": {
   "author": "Prof.\\ Dr.\\ Natalie Packham\\\\ DVFA \\\\ Chartered Financial Data Scientist\\\\ Summer Term 2020",
   "bib": "notebook.bib",
   "title": "Financial Time Series"
  },
  "livereveal": {
   "slideNumber": "c"
  },
  "toc": {
   "base_numbering": "4",
   "nav_menu": {},
   "number_sections": true,
   "sideBar": true,
   "skip_h1_title": false,
   "title_cell": "Table of Contents",
   "title_sidebar": "Contents",
   "toc_cell": false,
   "toc_position": {
    "height": "calc(100% - 180px)",
    "left": "10px",
    "top": "150px",
    "width": "288px"
   },
   "toc_section_display": true,
   "toc_window_display": false
  }
 },
 "nbformat": 4,
 "nbformat_minor": 4
}
